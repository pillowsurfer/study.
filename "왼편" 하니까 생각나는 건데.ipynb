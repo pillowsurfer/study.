{
  "nbformat": 4,
  "nbformat_minor": 0,
  "metadata": {
    "colab": {
      "provenance": [],
      "authorship_tag": "ABX9TyNDhklJQctnbuLKjp47SqJk"
    },
    "kernelspec": {
      "name": "python3",
      "display_name": "Python 3"
    },
    "language_info": {
      "name": "python"
    }
  },
  "cells": [
    {
      "cell_type": "markdown",
      "source": [
        "&nbsp;&nbsp;정현은 [마태복음 오장 삼십구절](https://www.bible.com/ko/bible/88/MAT.5.39)을 좋아했다. 나와 처음 만난 날에도 정현은 그 구절을 인용했다. 나\n",
        "도 어느샌가 외워서 여기저기 갖다붙였다. 우리는 가까운 사이였다. 각자의 안식으로 오롯한 일요일\n",
        "만을 빼면 지나쳐 와도 항상 여기 있는 오늘처럼 함께였다. 그러던 어느 오늘엔 재활용이 안 되는\n",
        "진실게임 같은 걸 했는데 내 차례가 끝나자 정현이 말했다. ***하나님께선 너를 그렇게 계획하지 않으\n",
        "셨어 나랑 같이 교회에 가자 참회하고 기도드리자 하나님께서는 너의 죄를 사하시고 환난에서 너\n",
        "를 구하실 거야 네 안의 전을 일구시고 마귀에 맞설 철갑을 주실 거야***  \n",
        "나는 허공을 날아 구름 속\n",
        "에 묻혔다. 하늘을 등진 구름에게 오늘이란 단어는 없다. 대지에 스며들었고 또다시 스며들 어제와\n",
        "내일이 있을 뿐이다. 별안간 구름이 나를 뱉었고 내가 알던 오늘은 이미 어제가 됐다. 해가 떠오르\n",
        "고 있었다. 무릎이 간지러웠다.\n",
        "\n",
        "&nbsp;\n",
        "\n",
        "[원문으로 돌아가기](https://github.com/pillowsurfer/study./blob/main/%EC%A1%B8%EC%97%85%EC%9E%91%ED%92%88%EC%A7%91%EC%9D%84_%EC%9C%84%ED%95%9C_%EC%8B%A4%ED%97%98_%EB%93%B1%ED%99%94%EA%B4%80%EC%A0%9C_01.ipynb)"
      ],
      "metadata": {
        "id": "xMhnPS7b6E_a"
      }
    }
  ]
}
