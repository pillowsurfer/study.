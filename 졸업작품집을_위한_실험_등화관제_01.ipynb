{
  "nbformat": 4,
  "nbformat_minor": 0,
  "metadata": {
    "colab": {
      "provenance": [],
      "toc_visible": true,
      "authorship_tag": "ABX9TyM9uXyVUI11IOWMieblCM6J"
    },
    "kernelspec": {
      "name": "python3",
      "display_name": "Python 3"
    },
    "language_info": {
      "name": "python"
    }
  },
  "cells": [
    {
      "cell_type": "markdown",
      "source": [
        "# 등화관제\n",
        "\n",
        "&nbsp;&nbsp;현관으로 돌아온 강아지가 이야기해줬다 더는  \n",
        "&nbsp;&nbsp;무릎이 간지럽지 않다고\n",
        "\n",
        "&nbsp;\n",
        "\n",
        "* 수술¹: 간지럼을 도려내는 일\n",
        "* 간지럼: 시바느로 희박해지는 무구함의 자국\n",
        "* 희박하다: 수술²\n",
        "* 수술³: 쉽지 않다는 말\n",
        "\n",
        "&nbsp;\n",
        "\n",
        "&nbsp;&nbsp;강아지랑 같이 멸종하려고  \n",
        "&nbsp;&nbsp;십부터 거꾸로 숫자를 세고서  \n",
        "&nbsp;&nbsp;평생 낮잠 잘 심산이라 말했다  \n",
        "&nbsp;&nbsp;어렵게 어렵게 돈을 모으기 시작했다  \n",
        "&nbsp;&nbsp;무릎을 긁으며  \n",
        "&nbsp;&nbsp;그런 생각을 했고 그런 생활을 했다\n",
        "\n",
        "&nbsp;\n",
        "\n",
        "&nbsp;&nbsp;나는 금줄을 손에 쥐었고 오른편 뺨을 내밀어 보였는데 너는 같이 왼편을 돌려대지 않았고 대신 내 뺨을 쓰다듬었다\n",
        "\n",
        "&nbsp;\n",
        "\n",
        "&nbsp;&nbsp;<span style=\"font-size: 9pt\">(휴지를 둥글게 뭉쳐 주며)</span> \"그 날이니?\"\n",  \n",
        "&nbsp;&nbsp;<span style=\"font-size: 9px\"> (무릎에서 날개형을 하나 꺼내며)</span> \"그날이 오면.\"  \n",
        "비쌀 텐데.  \n",
        "\n",
        "&nbsp;\n",
        "\n",
        "* 베개: 아침이 모습을 감출 것이라는 기대\n",
        "* 기대: 더 많이 날개를 쓰다듬는 손\n",
        "* 날개: 대문의 동의어\n",
        "* 수술ⅳ: 현관을 나서서는 다시 돌아오지 못함\n",
        "\n",
        "&nbsp;\n",
        "\n",
        "&nbsp;&nbsp;어스름이 다다르고 강아지는 떠난다\n",
        "\n",
        "&nbsp;\n",
        "\n"
      ],
      "metadata": {
        "id": "bvnoFF08QoBJ"
      }
    }
  ]
}
