{
  "nbformat": 4,
  "nbformat_minor": 0,
  "metadata": {
    "colab": {
      "provenance": [],
      "authorship_tag": "ABX9TyMh4tWWPv4LKq6ZXZza6ev6"
    },
    "kernelspec": {
      "name": "python3",
      "display_name": "Python 3"
    },
    "language_info": {
      "name": "python"
    }
  },
  "cells": [
    {
      "cell_type": "markdown",
      "source": [
        "&nbsp;&nbsp;나는 이 글을 읽지 않았으면 하는 사람들을 생각하며 썼고, 때로는 그들만이 내 글을 읽어주었으면\n",
        "하고 바랐다. 글을 쓰는 동안에도 나는 그런 글을 생각했다. [그런 생각을 했고, 그런 생활을 했다.](https://github.com/pillowsurfer/study./blob/main/%22%EA%B7%B8%EB%9F%B0%2C%20%EA%B7%B8%EB%9F%B0%20%EC%83%9D%ED%99%9C%22%EC%9D%84%20%ED%96%88%EB%8A%94%EB%8D%B0.ipynb)  \n",
        "[(김봉곤, 「그런 생활」, 『시절과 기분』, 창비, 2020)](https://www.hankookilbo.com/News/Read/A2020071315540001681?did=ZU)\n",
        "\n",
        "&nbsp;\n",
        "\n",
        "[원문으로 돌아가기](https://github.com/pillowsurfer/study./blob/main/%EC%A1%B8%EC%97%85%EC%9E%91%ED%92%88%EC%A7%91%EC%9D%84_%EC%9C%84%ED%95%9C_%EC%8B%A4%ED%97%98_%EB%93%B1%ED%99%94%EA%B4%80%EC%A0%9C_01.ipynb)"
      ],
      "metadata": {
        "id": "DWXFHTiv37Bx"
      }
    }
  ]
}
