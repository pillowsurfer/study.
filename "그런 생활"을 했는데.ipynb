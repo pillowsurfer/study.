{
  "nbformat": 4,
  "nbformat_minor": 0,
  "metadata": {
    "colab": {
      "provenance": [],
      "authorship_tag": "ABX9TyOVe1sTzALDXQMfhlNDUs8A"
    },
    "kernelspec": {
      "name": "python3",
      "display_name": "Python 3"
    },
    "language_info": {
      "name": "python"
    }
  },
  "cells": [
    {
      "cell_type": "markdown",
      "source": [
        "&nbsp;&nbsp;그런 생활을 했고 그런 눈동자가 생겨났다. 뒤이어 그런 귓바퀴도 돋아났는데 그에게 ~~아니 그녀 아 그가 맞나 그에게 그녀에 씁 그 그녀 아니 그냥 에이 씨 아무튼~~ 그런 소식이 굴러들어왔고 그런\n",
        "소문이 떨어져나갔다. 그런데 그런 눈동자와 그런 귓바퀴를 몸에 달고 나서부터 그렇지 않은 일들\n",
        "마저 그런 것처럼 느껴지고 그랬다. 그런 문제를 그런대로 내버려 두자 제 몸짓과 말투도 그런 식\n",
        "으로 혼란스러워졌다. 그렇거나 그렇지 않은 의미며 형식마저 슬슬 종잡을 수 없었다. 그렇거나 그\n",
        "렇지 않은 이들을 멀리했다. 홀로 그런 듯한 일들 모두 연거푸 게우고 끓여서 죽을 쑤어다 눈과 귀\n",
        "를 막은 채 그렇게 며칠을 먹었다. 냄비를 깨끗이 비우고 저를 엮은 금줄을 쥐어보았다. 핥거나 맡\n",
        "으며 그렇구나 그랬구나 중얼거렸는데 여전히 그런 사람일 제 목소리가 그렇게나 그런 듯이 들리\n",
        "지 않을 수가 없었고 무엇도 그럴싸하게 보이지 않았고\n",
        "\n",
        "&nbsp;\n",
        "\n",
        "[원문으로 돌아가기](https://github.com/pillowsurfer/study./blob/main/%EC%A1%B8%EC%97%85%EC%9E%91%ED%92%88%EC%A7%91%EC%9D%84_%EC%9C%84%ED%95%9C_%EC%8B%A4%ED%97%98_%EB%93%B1%ED%99%94%EA%B4%80%EC%A0%9C_01.ipynb)"
      ],
      "metadata": {
        "id": "fkE53tb15KK2"
      }
    }
  ]
}
