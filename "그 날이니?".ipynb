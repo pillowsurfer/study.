{
  "nbformat": 4,
  "nbformat_minor": 0,
  "metadata": {
    "colab": {
      "provenance": [],
      "authorship_tag": "ABX9TyOqoiQXNx6ybRUJtFSsmY0B"
    },
    "kernelspec": {
      "name": "python3",
      "display_name": "Python 3"
    },
    "language_info": {
      "name": "python"
    }
  },
  "cells": [
    {
      "cell_type": "markdown",
      "source": [
        "&nbsp;&nbsp;“그 날이니?” 자꾸자꾸 물어보길래, 나도,  \n",
        "(휴지를 둥글게 뭉쳐 주며) “그 날이니?”\n",
        "\n",
        "&nbsp;\n",
        "\n",
        "물었을 뿐인데, 후장이라도 뚫린 것처럼, 신성모독 당한 신처럼, 지랄하지 말아 줄래?  \n",
        "[(권박, 「그 날이니?」, 『이해할 차례이다』, 민음사, 2019)](https://ifh.cc/v-dYqh3O)\n",
        "\n",
        "&nbsp;\n",
        "\n",
        "[원문으로 돌아가기](https://github.com/pillowsurfer/study./blob/main/%EC%A1%B8%EC%97%85%EC%9E%91%ED%92%88%EC%A7%91%EC%9D%84_%EC%9C%84%ED%95%9C_%EC%8B%A4%ED%97%98_%EB%93%B1%ED%99%94%EA%B4%80%EC%A0%9C_01.ipynb)"
      ],
      "metadata": {
        "id": "genMyy3I9Kou"
      }
    }
  ]
}
